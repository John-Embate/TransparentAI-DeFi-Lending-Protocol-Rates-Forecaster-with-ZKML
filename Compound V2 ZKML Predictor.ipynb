{
 "cells": [
  {
   "cell_type": "code",
   "execution_count": 16,
   "id": "8b95d07f-0b8e-4741-a2ce-42117e2ccb60",
   "metadata": {},
   "outputs": [],
   "source": [
    "import pandas as pd\n",
    "import torch\n",
    "\n",
    "# Load the CSV files\n",
    "X_df = pd.read_csv('X_tensor_Compound_V2.csv')\n",
    "y_df = pd.read_csv('y_tensor_Compound_V2.csv')\n",
    "\n",
    "# Convert DataFrames to tensors\n",
    "X_tensor = torch.tensor(X_df.values, dtype=torch.float32)\n",
    "y_tensor = torch.tensor(y_df.values.squeeze(), dtype=torch.float32)  # Assuming y is 1D"
   ]
  },
  {
   "cell_type": "code",
   "execution_count": 17,
   "id": "e05e075c-a6f6-4616-b4ae-6de6449c4ae0",
   "metadata": {},
   "outputs": [
    {
     "name": "stderr",
     "output_type": "stream",
     "text": [
      "C:\\Users\\Predator\\AppData\\Roaming\\Python\\Python311\\site-packages\\prefect\\tasks.py:332: UserWarning: A task named 'Generate Prediction' and defined at 'C:\\Users\\Predator\\AppData\\Roaming\\Python\\Python311\\site-packages\\giza_actions\\task.py:9' conflicts with another task. Consider specifying a unique `name` parameter in the task definition:\n",
      "\n",
      " `@task(name='my_unique_name', ...)`\n",
      "  warnings.warn(\n",
      "C:\\Users\\Predator\\AppData\\Roaming\\Python\\Python311\\site-packages\\prefect\\flows.py:336: UserWarning: A flow named 'Execute Prediction Process Supply' and defined at 'C:\\Users\\Predator\\AppData\\Roaming\\Python\\Python311\\site-packages\\giza_actions\\action.py:24' conflicts with another flow. Consider specifying a unique `name` parameter in the flow definition:\n",
      "\n",
      " `@flow(name='my_unique_name', ...)`\n",
      "  warnings.warn(\n",
      "C:\\Users\\Predator\\AppData\\Roaming\\Python\\Python311\\site-packages\\prefect\\flows.py:336: UserWarning: A flow named 'Execute Prediction Process Borrow' and defined at 'C:\\Users\\Predator\\AppData\\Roaming\\Python\\Python311\\site-packages\\giza_actions\\action.py:33' conflicts with another flow. Consider specifying a unique `name` parameter in the flow definition:\n",
      "\n",
      " `@flow(name='my_unique_name', ...)`\n",
      "  warnings.warn(\n"
     ]
    }
   ],
   "source": [
    "from torch.utils.data import DataLoader, TensorDataset\n",
    "import numpy as np\n",
    "from giza_actions.model import GizaModel\n",
    "from giza_actions.action import Action, action\n",
    "from giza_actions.task import task\n",
    "\n",
    "single_test_sample = None\n",
    "\n",
    "@task(name='Generate Prediction')\n",
    "def predict_output(data_for_prediction, model_id, version_id):\n",
    "    # Initialize the prediction model with the given model and version IDs.\n",
    "    prediction_model = GizaModel(id=model_id, version=version_id)\n",
    "    \n",
    "    # Perform prediction using the model's predict method and ensure output integrity.\n",
    "    prediction_result, prediction_tracking_id = prediction_model.predict(\n",
    "        input_feed={\"model_input\": data_for_prediction}, \n",
    "        verifiable=True,\n",
    "        job_size=\"M\",\n",
    "    )\n",
    "    print(prediction_result)\n",
    "    print(prediction_tracking_id)\n",
    "    return prediction_result, prediction_tracking_id\n",
    "\n",
    "@action(name='Execute Prediction Process Supply', log_prints=True)\n",
    "def execute_prediction_supply():\n",
    "    model_identifier = 368  # Customize with the specific model ID for Supply Rate Model\n",
    "    version_identifier = 11  # Customize with the specific version ID for Supply Rate Model\n",
    "    \n",
    "    # Using a single sample from the test set for making a prediction\n",
    "    prediction_result, operation_tracking_id = predict_output(single_test_sample, model_identifier, version_identifier) \n",
    "    return prediction_result, operation_tracking_id\n",
    "\n",
    "@action(name='Execute Prediction Process Borrow', log_prints=True)\n",
    "def execute_prediction_borrow():\n",
    "    model_identifier = 619  # Customize with the specific model ID for Supply Rate Model\n",
    "    version_identifier = 1  # Customize with the specific version ID for Supply Rate Model\n",
    "    \n",
    "    # Using a single sample from the test set for making a prediction\n",
    "    prediction_result, operation_tracking_id = predict_output(single_test_sample, model_identifier, version_identifier) \n",
    "    return prediction_result, operation_tracking_id"
   ]
  },
  {
   "cell_type": "code",
   "execution_count": 18,
   "id": "a81c44ba-f036-480e-ad7e-6e52309d91b5",
   "metadata": {},
   "outputs": [
    {
     "data": {
      "text/html": [
       "<pre style=\"white-space:pre;overflow-x:auto;line-height:normal;font-family:Menlo,'DejaVu Sans Mono',consolas,'Courier New',monospace\">20:23:04.822 | <span style=\"color: #008080; text-decoration-color: #008080\">INFO</span>    | Created flow run<span style=\"color: #800080; text-decoration-color: #800080\"> 'black-puma'</span> for flow<span style=\"color: #800080; text-decoration-color: #800080; font-weight: bold\"> 'Execute Prediction Process Supply'</span>\n",
       "</pre>\n"
      ],
      "text/plain": [
       "20:23:04.822 | \u001b[36mINFO\u001b[0m    | Created flow run\u001b[35m 'black-puma'\u001b[0m for flow\u001b[1;35m 'Execute Prediction Process Supply'\u001b[0m\n"
      ]
     },
     "metadata": {},
     "output_type": "display_data"
    },
    {
     "data": {
      "text/html": [
       "<pre style=\"white-space:pre;overflow-x:auto;line-height:normal;font-family:Menlo,'DejaVu Sans Mono',consolas,'Courier New',monospace\">20:23:04.840 | <span style=\"color: #008080; text-decoration-color: #008080\">INFO</span>    | Action run 'black-puma' - View at <span style=\"color: #0000ff; text-decoration-color: #0000ff\">https://actions-server-williamskie123-dblzzhtf5q-ew.a.run.app/flow-runs/flow-run/789c6084-e15a-4bd6-8da9-37797702fdee</span>\n",
       "</pre>\n"
      ],
      "text/plain": [
       "20:23:04.840 | \u001b[36mINFO\u001b[0m    | Action run 'black-puma' - View at \u001b[94mhttps://actions-server-williamskie123-dblzzhtf5q-ew.a.run.app/flow-runs/flow-run/789c6084-e15a-4bd6-8da9-37797702fdee\u001b[0m\n"
      ]
     },
     "metadata": {},
     "output_type": "display_data"
    },
    {
     "data": {
      "text/html": [
       "<pre style=\"white-space:pre;overflow-x:auto;line-height:normal;font-family:Menlo,'DejaVu Sans Mono',consolas,'Courier New',monospace\">20:23:05.966 | <span style=\"color: #008080; text-decoration-color: #008080\">INFO</span>    | Action run 'black-puma' - Created task run 'Generate Prediction-0' for task 'Generate Prediction'\n",
       "</pre>\n"
      ],
      "text/plain": [
       "20:23:05.966 | \u001b[36mINFO\u001b[0m    | Action run 'black-puma' - Created task run 'Generate Prediction-0' for task 'Generate Prediction'\n"
      ]
     },
     "metadata": {},
     "output_type": "display_data"
    },
    {
     "data": {
      "text/html": [
       "<pre style=\"white-space:pre;overflow-x:auto;line-height:normal;font-family:Menlo,'DejaVu Sans Mono',consolas,'Courier New',monospace\">20:23:05.976 | <span style=\"color: #008080; text-decoration-color: #008080\">INFO</span>    | Action run 'black-puma' - Executing 'Generate Prediction-0' immediately...\n",
       "</pre>\n"
      ],
      "text/plain": [
       "20:23:05.976 | \u001b[36mINFO\u001b[0m    | Action run 'black-puma' - Executing 'Generate Prediction-0' immediately...\n"
      ]
     },
     "metadata": {},
     "output_type": "display_data"
    },
    {
     "name": "stdout",
     "output_type": "stream",
     "text": [
      "🚀 Starting deserialization process...\n",
      "✅ Deserialization completed! 🎉\n"
     ]
    },
    {
     "data": {
      "text/html": [
       "<pre style=\"white-space:pre;overflow-x:auto;line-height:normal;font-family:Menlo,'DejaVu Sans Mono',consolas,'Courier New',monospace\">20:23:20.767 | <span style=\"color: #008080; text-decoration-color: #008080\">INFO</span>    | Task run 'Generate Prediction-0' - [[-0.01408386]]\n",
       "</pre>\n"
      ],
      "text/plain": [
       "20:23:20.767 | \u001b[36mINFO\u001b[0m    | Task run 'Generate Prediction-0' - [[-0.01408386]]\n"
      ]
     },
     "metadata": {},
     "output_type": "display_data"
    },
    {
     "data": {
      "text/html": [
       "<pre style=\"white-space:pre;overflow-x:auto;line-height:normal;font-family:Menlo,'DejaVu Sans Mono',consolas,'Courier New',monospace\">20:23:20.773 | <span style=\"color: #008080; text-decoration-color: #008080\">INFO</span>    | Task run 'Generate Prediction-0' - 5e9e60a5ca4440d68d5258f04804b268\n",
       "</pre>\n"
      ],
      "text/plain": [
       "20:23:20.773 | \u001b[36mINFO\u001b[0m    | Task run 'Generate Prediction-0' - 5e9e60a5ca4440d68d5258f04804b268\n"
      ]
     },
     "metadata": {},
     "output_type": "display_data"
    },
    {
     "data": {
      "text/html": [
       "<pre style=\"white-space:pre;overflow-x:auto;line-height:normal;font-family:Menlo,'DejaVu Sans Mono',consolas,'Courier New',monospace\">20:23:21.223 | <span style=\"color: #008080; text-decoration-color: #008080\">INFO</span>    | Task run 'Generate Prediction-0' - Finished in state <span style=\"color: #008000; text-decoration-color: #008000\">Completed</span>()\n",
       "</pre>\n"
      ],
      "text/plain": [
       "20:23:21.223 | \u001b[36mINFO\u001b[0m    | Task run 'Generate Prediction-0' - Finished in state \u001b[32mCompleted\u001b[0m()\n"
      ]
     },
     "metadata": {},
     "output_type": "display_data"
    },
    {
     "data": {
      "text/html": [
       "<pre style=\"white-space:pre;overflow-x:auto;line-height:normal;font-family:Menlo,'DejaVu Sans Mono',consolas,'Courier New',monospace\">20:23:21.638 | <span style=\"color: #008080; text-decoration-color: #008080\">INFO</span>    | Action run 'black-puma' - Finished in state <span style=\"color: #008000; text-decoration-color: #008000\">Completed</span>()\n",
       "</pre>\n"
      ],
      "text/plain": [
       "20:23:21.638 | \u001b[36mINFO\u001b[0m    | Action run 'black-puma' - Finished in state \u001b[32mCompleted\u001b[0m()\n"
      ]
     },
     "metadata": {},
     "output_type": "display_data"
    }
   ],
   "source": [
    "single_test_sample = X_tensor.numpy().astype(\"float32\")[1].reshape(1,-1) #Before prediction let's set the single_test_sample first\n",
    "prediction_result, proof_id = execute_prediction_supply()"
   ]
  },
  {
   "cell_type": "code",
   "execution_count": 19,
   "id": "fd543905-b7e4-4156-a98c-beda9c0e56e5",
   "metadata": {},
   "outputs": [
    {
     "data": {
      "text/html": [
       "<pre style=\"white-space:pre;overflow-x:auto;line-height:normal;font-family:Menlo,'DejaVu Sans Mono',consolas,'Courier New',monospace\">20:23:23.239 | <span style=\"color: #008080; text-decoration-color: #008080\">INFO</span>    | Created flow run<span style=\"color: #800080; text-decoration-color: #800080\"> 'rampant-guan'</span> for flow<span style=\"color: #800080; text-decoration-color: #800080; font-weight: bold\"> 'Execute Prediction Process Borrow'</span>\n",
       "</pre>\n"
      ],
      "text/plain": [
       "20:23:23.239 | \u001b[36mINFO\u001b[0m    | Created flow run\u001b[35m 'rampant-guan'\u001b[0m for flow\u001b[1;35m 'Execute Prediction Process Borrow'\u001b[0m\n"
      ]
     },
     "metadata": {},
     "output_type": "display_data"
    },
    {
     "data": {
      "text/html": [
       "<pre style=\"white-space:pre;overflow-x:auto;line-height:normal;font-family:Menlo,'DejaVu Sans Mono',consolas,'Courier New',monospace\">20:23:23.246 | <span style=\"color: #008080; text-decoration-color: #008080\">INFO</span>    | Action run 'rampant-guan' - View at <span style=\"color: #0000ff; text-decoration-color: #0000ff\">https://actions-server-williamskie123-dblzzhtf5q-ew.a.run.app/flow-runs/flow-run/d9176234-f201-4009-b74b-ed7d105e2e2b</span>\n",
       "</pre>\n"
      ],
      "text/plain": [
       "20:23:23.246 | \u001b[36mINFO\u001b[0m    | Action run 'rampant-guan' - View at \u001b[94mhttps://actions-server-williamskie123-dblzzhtf5q-ew.a.run.app/flow-runs/flow-run/d9176234-f201-4009-b74b-ed7d105e2e2b\u001b[0m\n"
      ]
     },
     "metadata": {},
     "output_type": "display_data"
    },
    {
     "data": {
      "text/html": [
       "<pre style=\"white-space:pre;overflow-x:auto;line-height:normal;font-family:Menlo,'DejaVu Sans Mono',consolas,'Courier New',monospace\">20:23:24.343 | <span style=\"color: #008080; text-decoration-color: #008080\">INFO</span>    | Action run 'rampant-guan' - Created task run 'Generate Prediction-0' for task 'Generate Prediction'\n",
       "</pre>\n"
      ],
      "text/plain": [
       "20:23:24.343 | \u001b[36mINFO\u001b[0m    | Action run 'rampant-guan' - Created task run 'Generate Prediction-0' for task 'Generate Prediction'\n"
      ]
     },
     "metadata": {},
     "output_type": "display_data"
    },
    {
     "data": {
      "text/html": [
       "<pre style=\"white-space:pre;overflow-x:auto;line-height:normal;font-family:Menlo,'DejaVu Sans Mono',consolas,'Courier New',monospace\">20:23:24.351 | <span style=\"color: #008080; text-decoration-color: #008080\">INFO</span>    | Action run 'rampant-guan' - Executing 'Generate Prediction-0' immediately...\n",
       "</pre>\n"
      ],
      "text/plain": [
       "20:23:24.351 | \u001b[36mINFO\u001b[0m    | Action run 'rampant-guan' - Executing 'Generate Prediction-0' immediately...\n"
      ]
     },
     "metadata": {},
     "output_type": "display_data"
    },
    {
     "name": "stdout",
     "output_type": "stream",
     "text": [
      "🚀 Starting deserialization process...\n",
      "✅ Deserialization completed! 🎉\n"
     ]
    },
    {
     "data": {
      "text/html": [
       "<pre style=\"white-space:pre;overflow-x:auto;line-height:normal;font-family:Menlo,'DejaVu Sans Mono',consolas,'Courier New',monospace\">20:23:38.180 | <span style=\"color: #008080; text-decoration-color: #008080\">INFO</span>    | Task run 'Generate Prediction-0' - [[0.03240967]]\n",
       "</pre>\n"
      ],
      "text/plain": [
       "20:23:38.180 | \u001b[36mINFO\u001b[0m    | Task run 'Generate Prediction-0' - [[0.03240967]]\n"
      ]
     },
     "metadata": {},
     "output_type": "display_data"
    },
    {
     "data": {
      "text/html": [
       "<pre style=\"white-space:pre;overflow-x:auto;line-height:normal;font-family:Menlo,'DejaVu Sans Mono',consolas,'Courier New',monospace\">20:23:38.186 | <span style=\"color: #008080; text-decoration-color: #008080\">INFO</span>    | Task run 'Generate Prediction-0' - c08db54d39544f37b2a363fe18e38967\n",
       "</pre>\n"
      ],
      "text/plain": [
       "20:23:38.186 | \u001b[36mINFO\u001b[0m    | Task run 'Generate Prediction-0' - c08db54d39544f37b2a363fe18e38967\n"
      ]
     },
     "metadata": {},
     "output_type": "display_data"
    },
    {
     "data": {
      "text/html": [
       "<pre style=\"white-space:pre;overflow-x:auto;line-height:normal;font-family:Menlo,'DejaVu Sans Mono',consolas,'Courier New',monospace\">20:23:38.623 | <span style=\"color: #008080; text-decoration-color: #008080\">INFO</span>    | Task run 'Generate Prediction-0' - Finished in state <span style=\"color: #008000; text-decoration-color: #008000\">Completed</span>()\n",
       "</pre>\n"
      ],
      "text/plain": [
       "20:23:38.623 | \u001b[36mINFO\u001b[0m    | Task run 'Generate Prediction-0' - Finished in state \u001b[32mCompleted\u001b[0m()\n"
      ]
     },
     "metadata": {},
     "output_type": "display_data"
    },
    {
     "data": {
      "text/html": [
       "<pre style=\"white-space:pre;overflow-x:auto;line-height:normal;font-family:Menlo,'DejaVu Sans Mono',consolas,'Courier New',monospace\">20:23:39.030 | <span style=\"color: #008080; text-decoration-color: #008080\">INFO</span>    | Action run 'rampant-guan' - Finished in state <span style=\"color: #008000; text-decoration-color: #008000\">Completed</span>()\n",
       "</pre>\n"
      ],
      "text/plain": [
       "20:23:39.030 | \u001b[36mINFO\u001b[0m    | Action run 'rampant-guan' - Finished in state \u001b[32mCompleted\u001b[0m()\n"
      ]
     },
     "metadata": {},
     "output_type": "display_data"
    }
   ],
   "source": [
    "single_test_sample = X_tensor.numpy().astype(\"float32\")[1].reshape(1,-1) #Before prediction let's set the single_test_sample first\n",
    "prediction_result, proof_id = execute_prediction_borrow()"
   ]
  }
 ],
 "metadata": {
  "kernelspec": {
   "display_name": "Python 3 (ipykernel)",
   "language": "python",
   "name": "python3"
  },
  "language_info": {
   "codemirror_mode": {
    "name": "ipython",
    "version": 3
   },
   "file_extension": ".py",
   "mimetype": "text/x-python",
   "name": "python",
   "nbconvert_exporter": "python",
   "pygments_lexer": "ipython3",
   "version": "3.11.5"
  }
 },
 "nbformat": 4,
 "nbformat_minor": 5
}
